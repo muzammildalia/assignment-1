{
 "cells": [
  {
   "cell_type": "code",
   "execution_count": 16,
   "metadata": {},
   "outputs": [
    {
     "name": "stdout",
     "output_type": "stream",
     "text": [
      "Enter your English marks:\t77\n",
      "Enter your Urdu marks:\t87\n",
      "Enter your Pak.Std marks:\t67\n",
      "Enter your Chemistry marks:\t97\n",
      "Enter your Physics marks:\t89\n",
      "83.4\n",
      "A1 Grade\n"
     ]
    }
   ],
   "source": [
    "# Marksheet / Grading program\n",
    "eng = int(input(\"Enter your English marks:\\t\"))\n",
    "urdu = int(input(\"Enter your Urdu marks:\\t\"))\n",
    "pst = int(input(\"Enter your Pak.Std marks:\\t\"))\n",
    "chem = int(input(\"Enter your Chemistry marks:\\t\"))\n",
    "phy = int(input(\"Enter your Physics marks:\\t\"))\n",
    "sum = eng + urdu + pst + chem + phy\n",
    "avg = sum/5\n",
    "print(avg)\n",
    "if avg>=80 and avg<=100:\n",
    " print(\"A1 Grade\")\n",
    "elif avg>=70 and avg<80:\n",
    " print(\"A Grade\")\n",
    "elif avg>=60 and avg<70:\n",
    " print(\"B Grade\")\n",
    "elif avg>=50 and avg<60:\n",
    " print(\"C Grade\")\n",
    "else:\n",
    " print(\"Fail\")   "
   ]
  },
  {
   "cell_type": "code",
   "execution_count": 7,
   "metadata": {},
   "outputs": [
    {
     "name": "stdout",
     "output_type": "stream",
     "text": [
      "Enter your number\t4\n",
      "This is an even number\n"
     ]
    }
   ],
   "source": [
    "# odd / even number program\n",
    "num = int(input(\"Enter your number\\t\"))\n",
    "A = num % 2\n",
    "if A>0:\n",
    " print(\"This is an odd number\")\n",
    "else:\n",
    " print(\"This is an even number\")\n"
   ]
  },
  {
   "cell_type": "code",
   "execution_count": 9,
   "metadata": {},
   "outputs": [
    {
     "name": "stdout",
     "output_type": "stream",
     "text": [
      "The length of list is:  4\n"
     ]
    }
   ],
   "source": [
    "# len() program \n",
    "n = len([10, 20, 30,40]) \n",
    "print(\"The length of list is: \", n) "
   ]
  },
  {
   "cell_type": "code",
   "execution_count": 14,
   "metadata": {},
   "outputs": [
    {
     "name": "stdout",
     "output_type": "stream",
     "text": [
      "Sum of all elements in given list:  74\n"
     ]
    }
   ],
   "source": [
    "# program to find sum of elements in list \n",
    "total = 0\n",
    "list1 = [11, 5, 17, 18, 23] \n",
    "for ele in range(0, len(list1)): \n",
    " total = total + list1[ele] \n",
    "print(\"Sum of all elements in given list: \", total) \n"
   ]
  },
  {
   "cell_type": "code",
   "execution_count": 15,
   "metadata": {},
   "outputs": [
    {
     "name": "stdout",
     "output_type": "stream",
     "text": [
      "Largest element is: 99\n"
     ]
    }
   ],
   "source": [
    "# program to find largest number in a list \n",
    "list1 = [10, 20, 4, 45, 99] \n",
    " print(\"Largest element is:\", max(list1)) "
   ]
  },
  {
   "cell_type": "code",
   "execution_count": 25,
   "metadata": {},
   "outputs": [
    {
     "name": "stdout",
     "output_type": "stream",
     "text": [
      "1\n",
      "1\n",
      "2\n",
      "3\n",
      "4\n"
     ]
    }
   ],
   "source": [
    "# program to print less than 5 numbers from a list\n",
    "a = [1, 1, 2, 3, 5, 8, 4, 21, 34, 55, 89]\n",
    "for i in a:\n",
    " \n",
    "   if i < 5:\n",
    "    print(i)"
   ]
  },
  {
   "cell_type": "code",
   "execution_count": null,
   "metadata": {},
   "outputs": [],
   "source": []
  }
 ],
 "metadata": {
  "kernelspec": {
   "display_name": "Python 3",
   "language": "python",
   "name": "python3"
  },
  "language_info": {
   "codemirror_mode": {
    "name": "ipython",
    "version": 3
   },
   "file_extension": ".py",
   "mimetype": "text/x-python",
   "name": "python",
   "nbconvert_exporter": "python",
   "pygments_lexer": "ipython3",
   "version": "3.7.4"
  }
 },
 "nbformat": 4,
 "nbformat_minor": 2
}
